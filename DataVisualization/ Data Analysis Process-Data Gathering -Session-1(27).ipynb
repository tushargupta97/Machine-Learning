{
 "cells": [
  {
   "cell_type": "markdown",
   "id": "be8a380b",
   "metadata": {},
   "source": [
    "## Data Gathering -> Asking Questions -> Data Wrangling(Preprocessing) -> Exploratory Data Analysis -> Drawing Conclusions -> Communicating Results"
   ]
  },
  {
   "cell_type": "markdown",
   "id": "a4e1471f",
   "metadata": {},
   "source": [
    "## Step1-Asking Questions\n",
    "\n",
    "* What features will contribute to my analysis ?\n",
    "* What features are not important for my analysis ?\n",
    "* Which of the features have strong correlation ?\n",
    "* Do I need data preprocessing ?\n",
    "* Which kind of feature engineering is required ?"
   ]
  },
  {
   "cell_type": "markdown",
   "id": "5cffcb5a",
   "metadata": {},
   "source": [
    "## Step2 - Data Wrangling or Munging\n",
    "####  It is the process of transforming and mapping data from one \"raw\" data form into another format with the intent of making it more appropriate and valuable for a variety of downstream purposes such as analytics\n",
    "\n",
    "#### 1.Gathering Data \n",
    "#### 2.Assessing Data \n",
    "#### 3.Cleaning Data\n",
    " "
   ]
  },
  {
   "cell_type": "markdown",
   "id": "5d0ca3c7",
   "metadata": {},
   "source": [
    "### 2.1 Gathering Data\n",
    "* csv files\n",
    "* API\n",
    "* Web Scrappign\n",
    "* Databases"
   ]
  },
  {
   "cell_type": "markdown",
   "id": "f66035bd",
   "metadata": {},
   "source": [
    "### 2.2 Assessing Data\n",
    "1. Finding the number of rows and columns(shape)\n",
    "2. Data types of various columns (info())\n",
    "3. Checking for missing values (info())\n",
    "4. Check for dupicate data (is_unique())\n",
    "5. Memory occupies by the dataset (info)\n",
    "6. High level mathematical overview of the data (describe)"
   ]
  },
  {
   "cell_type": "markdown",
   "id": "447f14f5",
   "metadata": {},
   "source": [
    "### 2.3 Cleaning Data\n",
    "\n",
    "1. Missing Data(eg Mean)\n",
    "2. Remove duplicate data(drop_duplicates)\n",
    "3. Incorrect datatypes (astype)"
   ]
  },
  {
   "cell_type": "markdown",
   "id": "b6971440",
   "metadata": {},
   "source": [
    "## Step3-  Exploratory Data Analysis\n",
    "\n",
    "### 3.1 Exploring Data\n",
    "1. Finiding correlatrions ans covariance\n",
    "2. Doing Univariate and Multivariate Analysis\n",
    "3. Plotting Graphs(Data Visualization)\n",
    "\n",
    "### 3.2 Augmenting Data\n",
    "1. Removing Outliers \n",
    "2. Merging Dataframes\n",
    "3. Adding new Columns\n",
    "#### These operations are collectively known as feature engineering "
   ]
  },
  {
   "cell_type": "markdown",
   "id": "ffb7638c",
   "metadata": {},
   "source": [
    "## Step4- Drawing Conclusions\n",
    "\n",
    "1. Machine Learning \n",
    "2. Inferential Statistics\n",
    "3. Descriptive Statistics"
   ]
  },
  {
   "cell_type": "markdown",
   "id": "c75a151c",
   "metadata": {},
   "source": [
    "## Step5- Communicating Results/ Data Storytelling"
   ]
  },
  {
   "cell_type": "code",
   "execution_count": null,
   "id": "56a9518e",
   "metadata": {},
   "outputs": [],
   "source": []
  },
  {
   "cell_type": "markdown",
   "id": "864f2fcc",
   "metadata": {},
   "source": [
    "# Data Gathering "
   ]
  },
  {
   "cell_type": "code",
   "execution_count": null,
   "id": "bdc5ce1c",
   "metadata": {},
   "outputs": [],
   "source": []
  }
 ],
 "metadata": {
  "kernelspec": {
   "display_name": "Python 3 (ipykernel)",
   "language": "python",
   "name": "python3"
  },
  "language_info": {
   "codemirror_mode": {
    "name": "ipython",
    "version": 3
   },
   "file_extension": ".py",
   "mimetype": "text/x-python",
   "name": "python",
   "nbconvert_exporter": "python",
   "pygments_lexer": "ipython3",
   "version": "3.11.4"
  }
 },
 "nbformat": 4,
 "nbformat_minor": 5
}
